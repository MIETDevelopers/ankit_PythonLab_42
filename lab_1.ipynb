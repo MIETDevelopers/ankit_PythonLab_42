{
 "cells": [
  {
   "cell_type": "code",
   "execution_count": 1,
   "id": "bac70efb",
   "metadata": {},
   "outputs": [
    {
     "name": "stdout",
     "output_type": "stream",
     "text": [
      "<class 'int'>\n"
     ]
    }
   ],
   "source": [
    "#predefined functions in python\n",
    "integer = 123\n",
    "print(type(integer))"
   ]
  },
  {
   "cell_type": "code",
   "execution_count": 2,
   "id": "28931541",
   "metadata": {},
   "outputs": [
    {
     "name": "stdout",
     "output_type": "stream",
     "text": [
      "2.0 is a type,  <class 'float'>\n"
     ]
    }
   ],
   "source": [
    "#predefined functions in python\n",
    "a = 2.0\n",
    "print(a, \"is a type, \" , type(a))"
   ]
  },
  {
   "cell_type": "code",
   "execution_count": 3,
   "id": "8a63e8b5",
   "metadata": {},
   "outputs": [
    {
     "name": "stdout",
     "output_type": "stream",
     "text": [
      "(4+7j) is a type,  <class 'complex'>\n"
     ]
    }
   ],
   "source": [
    "#predefined functions in python\n",
    "a = 4 + 7j\n",
    "print(a, \"is a type, \" , type(a))"
   ]
  },
  {
   "cell_type": "code",
   "execution_count": 4,
   "id": "ac691dbb",
   "metadata": {},
   "outputs": [
    {
     "name": "stdout",
     "output_type": "stream",
     "text": [
      "[3, 'Programs', 3.14, (5+2j)]\n"
     ]
    }
   ],
   "source": [
    "#Python List\n",
    "items = [3, \"Programs\", 3.14, 5 + 2j]\n",
    "print(items)"
   ]
  },
  {
   "cell_type": "code",
   "execution_count": 5,
   "id": "48895d78",
   "metadata": {},
   "outputs": [
    {
     "name": "stdout",
     "output_type": "stream",
     "text": [
      "34\n"
     ]
    }
   ],
   "source": [
    "#Python List\n",
    "a = [18,22,32,34,5,6,17,8,4,10]\n",
    "print(a[3])"
   ]
  },
  {
   "cell_type": "code",
   "execution_count": 6,
   "id": "b33a77f7",
   "metadata": {},
   "outputs": [
    {
     "name": "stdout",
     "output_type": "stream",
     "text": [
      "[1, 2, 7]\n"
     ]
    }
   ],
   "source": [
    "#Python List\n",
    "a = [1,2,3]\n",
    "a[2] = 7\n",
    "print(a)"
   ]
  },
  {
   "cell_type": "code",
   "execution_count": 7,
   "id": "8748d8fb",
   "metadata": {},
   "outputs": [
    {
     "name": "stdout",
     "output_type": "stream",
     "text": [
      "Program\n",
      "234\n"
     ]
    }
   ],
   "source": [
    "#Python tuples\n",
    "a = (15, 'Program', 234, 'python')\n",
    "print(a[1])\n",
    "print(a[2])"
   ]
  },
  {
   "cell_type": "code",
   "execution_count": 8,
   "id": "54277e23",
   "metadata": {},
   "outputs": [
    {
     "name": "stdout",
     "output_type": "stream",
     "text": [
      "This is just a string This is also a string This is a string \n"
     ]
    }
   ],
   "source": [
    "#Python Strings\n",
    "string1 = \"This is just a string \"\n",
    "string2 = \"This is also a string \"\n",
    "string3 = \"This is a string \"\n",
    "print(string1 + string2 + string3)"
   ]
  },
  {
   "cell_type": "code",
   "execution_count": 9,
   "id": "50d7fe3d",
   "metadata": {},
   "outputs": [
    {
     "name": "stdout",
     "output_type": "stream",
     "text": [
      "Ankit\n"
     ]
    }
   ],
   "source": [
    "#Python Dictionary\n",
    "dict = {'Name': 'Ankit', 'Age': 7, 'Class': 'First'}\n",
    "print(dict['Name'])"
   ]
  },
  {
   "cell_type": "code",
   "execution_count": 10,
   "id": "24defcf0",
   "metadata": {},
   "outputs": [
    {
     "name": "stdout",
     "output_type": "stream",
     "text": [
      "5.0\n"
     ]
    }
   ],
   "source": [
    "#cdonverswion between data types\n",
    "a = 5\n",
    "print(float(a))\n"
   ]
  },
  {
   "cell_type": "code",
   "execution_count": 11,
   "id": "09bfa3ce",
   "metadata": {},
   "outputs": [
    {
     "name": "stdout",
     "output_type": "stream",
     "text": [
      "30.0\n"
     ]
    }
   ],
   "source": [
    "#type conversion\n",
    "a = 10\n",
    "b = 20\n",
    "print(float(a) + float(b))"
   ]
  },
  {
   "cell_type": "code",
   "execution_count": 12,
   "id": "af24e78b",
   "metadata": {},
   "outputs": [
    {
     "name": "stdout",
     "output_type": "stream",
     "text": [
      "12\n",
      "Python\n"
     ]
    }
   ],
   "source": [
    "#Dynamic Typing\n",
    "item = 12\n",
    "print(item)\n",
    "item = \"Python\"\n",
    "print(item)"
   ]
  },
  {
   "cell_type": "code",
   "execution_count": 13,
   "id": "a1fb41c6",
   "metadata": {},
   "outputs": [
    {
     "name": "stdout",
     "output_type": "stream",
     "text": [
      "20\n"
     ]
    }
   ],
   "source": [
    "#built in functions\n",
    "Number = -20\n",
    "absolute_number = abs(Number)\n",
    "print(absolute_number)"
   ]
  },
  {
   "cell_type": "code",
   "execution_count": 14,
   "id": "b0acc297",
   "metadata": {},
   "outputs": [
    {
     "name": "stdout",
     "output_type": "stream",
     "text": [
      "2.5\n"
     ]
    }
   ],
   "source": [
    "number = -2.5\n",
    "absolute_number = abs(number)\n",
    "print(absolute_number)"
   ]
  },
  {
   "cell_type": "code",
   "execution_count": 15,
   "id": "7c6d23cd",
   "metadata": {},
   "outputs": [
    {
     "name": "stdout",
     "output_type": "stream",
     "text": [
      "3\n"
     ]
    }
   ],
   "source": [
    "#len functions\n",
    "language = ['python ', 'java', 'c++']\n",
    "print(len(language))"
   ]
  },
  {
   "cell_type": "code",
   "execution_count": 16,
   "id": "d9a05074",
   "metadata": {},
   "outputs": [
    {
     "name": "stdout",
     "output_type": "stream",
     "text": [
      "Lenght of the list is  3\n"
     ]
    }
   ],
   "source": [
    "list_1 = [1,2,3]\n",
    "print('Lenght of the list is ', len(list_1))"
   ]
  },
  {
   "cell_type": "code",
   "execution_count": 17,
   "id": "8b8dbba2",
   "metadata": {},
   "outputs": [
    {
     "name": "stdout",
     "output_type": "stream",
     "text": [
      "Lenght of the list is  3\n"
     ]
    }
   ],
   "source": [
    "tuple1 = (1,2,3)\n",
    "print('Lenght of the list is ', len(tuple1))"
   ]
  },
  {
   "cell_type": "code",
   "execution_count": 18,
   "id": "5b0dbc8c",
   "metadata": {},
   "outputs": [
    {
     "name": "stdout",
     "output_type": "stream",
     "text": [
      "Lenght of the list is  9\n"
     ]
    }
   ],
   "source": [
    "range1= range(1,10)\n",
    "print('Lenght of the list is ', len(range1))"
   ]
  },
  {
   "cell_type": "code",
   "execution_count": 19,
   "id": "105fb12f",
   "metadata": {},
   "outputs": [
    {
     "name": "stdout",
     "output_type": "stream",
     "text": [
      "Lenght of the list is  6\n"
     ]
    }
   ],
   "source": [
    "#len() functions with strings and bytes\n",
    "string1 = 'Python'\n",
    "print('Lenght of the list is ', len(string1))"
   ]
  },
  {
   "cell_type": "code",
   "execution_count": 20,
   "id": "f508153d",
   "metadata": {},
   "outputs": [
    {
     "name": "stdout",
     "output_type": "stream",
     "text": [
      "Lenght of the list is  3\n"
     ]
    }
   ],
   "source": [
    "#len() functions with dictionaries\n",
    "testset = {'python', 'java', 'c++'}\n",
    "print('Lenght of the list is ', len(testset))"
   ]
  },
  {
   "cell_type": "code",
   "execution_count": 21,
   "id": "60cd8bef",
   "metadata": {},
   "outputs": [
    {
     "name": "stdout",
     "output_type": "stream",
     "text": [
      "1\n"
     ]
    }
   ],
   "source": [
    "#using min() functions\n",
    "list1 = [1,2,3,4,5,6,7,8,9]\n",
    "print(min(list1))"
   ]
  },
  {
   "cell_type": "code",
   "execution_count": 22,
   "id": "1488a376",
   "metadata": {},
   "outputs": [
    {
     "name": "stdout",
     "output_type": "stream",
     "text": [
      "3\n"
     ]
    }
   ],
   "source": [
    "#predefined functions in python\n",
    "minimum = [5,3,6,7,8,9,10]\n",
    "print(min(minimum))\n"
   ]
  },
  {
   "cell_type": "code",
   "execution_count": 23,
   "id": "00f28424",
   "metadata": {},
   "outputs": [
    {
     "name": "stdout",
     "output_type": "stream",
     "text": [
      "3\n",
      "6\n"
     ]
    }
   ],
   "source": [
    "#Round function\n",
    "a = 3.1415926\n",
    "b = 6.3453\n",
    "print(round(a))\n",
    "print(round(b))"
   ]
  },
  {
   "cell_type": "code",
   "execution_count": 24,
   "id": "b823f3cf",
   "metadata": {},
   "outputs": [
    {
     "name": "stdout",
     "output_type": "stream",
     "text": [
      "True\n",
      "False\n"
     ]
    }
   ],
   "source": [
    "#using isalnum() function\n",
    "name1 = \"Python\"\n",
    "print(name1.isalnum())\n",
    "name2 = \"Python@3\"\n",
    "print(name2.isalnum())"
   ]
  }
 ],
 "metadata": {
  "kernelspec": {
   "display_name": "Python 3 (ipykernel)",
   "language": "python",
   "name": "python3"
  },
  "language_info": {
   "codemirror_mode": {
    "name": "ipython",
    "version": 3
   },
   "file_extension": ".py",
   "mimetype": "text/x-python",
   "name": "python",
   "nbconvert_exporter": "python",
   "pygments_lexer": "ipython3",
   "version": "3.9.12"
  }
 },
 "nbformat": 4,
 "nbformat_minor": 5
}
