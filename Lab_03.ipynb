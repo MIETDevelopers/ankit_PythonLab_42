{
 "cells": [
  {
   "cell_type": "code",
   "execution_count": 2,
   "id": "9b8f394c",
   "metadata": {},
   "outputs": [
    {
     "name": "stdout",
     "output_type": "stream",
     "text": [
      "The original string is : code using python\n",
      "Count of Alphabets :15\n"
     ]
    }
   ],
   "source": [
    "# Count the number of alphabets in the given string\n",
    "# initializing string\n",
    "test_str = \"code using python\"\n",
    "print(\"The original string is : \" + str(test_str))\n",
    "# isalpha() to computation of Alphabets\n",
    "res = len([l for l in test_str if l.isalpha()])\n",
    "# printing result\n",
    "print(\"Count of Alphabets :\"+ str(res))"
   ]
  },
  {
   "cell_type": "code",
   "execution_count": 3,
   "id": "54ff71a5",
   "metadata": {},
   "outputs": [
    {
     "name": "stdout",
     "output_type": "stream",
     "text": [
      "The original string is : Hello MY Name is Ankit Sharma\n",
      "Count of Alphabets : 24\n"
     ]
    }
   ],
   "source": [
    "import string\n",
    " # initializing string\n",
    "test_str = \"Hello MY Name is Ankit Sharma\"\n",
    "print(\"The original string is : \" + str(test_str))\n",
    "res = len([ele for ele in test_str if ele in string.ascii_uppercase or ele in string.ascii_lowercase]) \n",
    "print(\"Count of Alphabets : \" + str(res))"
   ]
  },
  {
   "cell_type": "code",
   "execution_count": 4,
   "id": "fff5d6b4",
   "metadata": {},
   "outputs": [
    {
     "name": "stdout",
     "output_type": "stream",
     "text": [
      "The original list is : ['geeksforgeeks', 'is', 'best', 'for', 'geeks']\n",
      "Range characters : sbestforgeeks\n"
     ]
    }
   ],
   "source": [
    "test_list = [\"geeksforgeeks\", \"is\", \"best\", \"for\", \"geeks\"]\n",
    "print(\"The original list is : \" + str(test_list))\n",
    "strt, end = 14, 30\n",
    "res = ''.join([s for s in test_list])[strt : end]\n",
    "# printing result\n",
    "print(\"Range characters : \" + str(res))"
   ]
  },
  {
   "cell_type": "code",
   "execution_count": 5,
   "id": "b5ae2d33",
   "metadata": {},
   "outputs": [
    {
     "name": "stdout",
     "output_type": "stream",
     "text": [
      "abc 123 is alphanumeric? False\n"
     ]
    }
   ],
   "source": [
    "string = \"abc 123\"\n",
    "print(string, \"is alphanumeric?\", string.isalnum())"
   ]
  },
  {
   "cell_type": "code",
   "execution_count": 6,
   "id": "e90bf63b",
   "metadata": {},
   "outputs": [
    {
     "name": "stdout",
     "output_type": "stream",
     "text": [
      "abc_123 is alphanumeric? False\n"
     ]
    }
   ],
   "source": [
    "string = \"abc_123\"\n",
    "print(string, \"is alphanumeric?\", string.isalnum())"
   ]
  },
  {
   "cell_type": "code",
   "execution_count": 7,
   "id": "6234f23d",
   "metadata": {},
   "outputs": [
    {
     "name": "stdout",
     "output_type": "stream",
     "text": [
      "Password is alphanumeric.\n"
     ]
    }
   ],
   "source": [
    "password = \"user123456\"\n",
    "if password.isalnum():\n",
    " print(\"Password is alphanumeric.\")\n",
    "else:\n",
    " print(\"Password is not alphanumeric.\")"
   ]
  }
 ],
 "metadata": {
  "kernelspec": {
   "display_name": "Python 3 (ipykernel)",
   "language": "python",
   "name": "python3"
  },
  "language_info": {
   "codemirror_mode": {
    "name": "ipython",
    "version": 3
   },
   "file_extension": ".py",
   "mimetype": "text/x-python",
   "name": "python",
   "nbconvert_exporter": "python",
   "pygments_lexer": "ipython3",
   "version": "3.9.12"
  }
 },
 "nbformat": 4,
 "nbformat_minor": 5
}
