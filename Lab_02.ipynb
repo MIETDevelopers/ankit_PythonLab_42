{
 "cells": [
  {
   "cell_type": "code",
   "execution_count": 1,
   "id": "596a3520",
   "metadata": {},
   "outputs": [
    {
     "name": "stdout",
     "output_type": "stream",
     "text": [
      "1\n",
      "3\n",
      "5\n",
      "7\n",
      "9\n"
     ]
    }
   ],
   "source": [
    "# LIST\n",
    "# Code to iterate over a list Using for loop\n",
    "list=[1,3,5,7,9]\n",
    "for i in list:\n",
    "    print(i)"
   ]
  },
  {
   "cell_type": "code",
   "execution_count": 2,
   "id": "641a4d88",
   "metadata": {},
   "outputs": [
    {
     "name": "stdout",
     "output_type": "stream",
     "text": [
      "1\n",
      "2\n",
      "3\n",
      "4\n",
      "5\n"
     ]
    }
   ],
   "source": [
    "# For loop and range()\n",
    "list=[1,2,3,4,5]\n",
    "length=len(list)\n",
    "for i in range(length):\n",
    "    print(list[i])"
   ]
  },
  {
   "cell_type": "code",
   "execution_count": 3,
   "id": "5d5f7434",
   "metadata": {},
   "outputs": [
    {
     "name": "stdout",
     "output_type": "stream",
     "text": [
      "1\n",
      "2\n",
      "3\n",
      "4\n",
      "5\n"
     ]
    },
    {
     "data": {
      "text/plain": [
       "[None, None, None, None, None]"
      ]
     },
     "execution_count": 3,
     "metadata": {},
     "output_type": "execute_result"
    }
   ],
   "source": [
    "# Using list comprehension(possibly the most concrete way)\n",
    "list=[1,2,3,4,5]\n",
    "[print(i) for i in list]"
   ]
  },
  {
   "cell_type": "code",
   "execution_count": 4,
   "id": "263e3525",
   "metadata": {},
   "outputs": [
    {
     "name": "stdout",
     "output_type": "stream",
     "text": [
      "dict_keys(['Gujarat', 'Maharashtra', 'Rajasthan', 'Bihar'])\n"
     ]
    }
   ],
   "source": [
    "# Dictionary\n",
    "# Access key using the built .keys()\n",
    "statesAndCapitals = {'Gujarat':'Gandhinagar','Maharashtra':'Mumbai','Rajasthan':'Jaipur','Bihar':'patna'}\n",
    "keys = statesAndCapitals.keys()\n",
    "print(keys)"
   ]
  },
  {
   "cell_type": "code",
   "execution_count": 5,
   "id": "4e8e27d4",
   "metadata": {},
   "outputs": [
    {
     "name": "stdout",
     "output_type": "stream",
     "text": [
      "List of given states:\n",
      "\n",
      "Gujarat\n",
      "Maharashtra\n",
      "Rajasthan\n",
      "Bihar\n"
     ]
    }
   ],
   "source": [
    "# Access key without using a key()\n",
    "statesAndCapitals = {'Gujarat':'Gandhinagar','Maharashtra':'Mumbai','Rajasthan':'Jaipur','Bihar':'patna'}\n",
    "print('List of given states:\\n')\n",
    "for state in statesAndCapitals:\n",
    "    print(state)"
   ]
  },
  {
   "cell_type": "code",
   "execution_count": 6,
   "id": "c4c7abb0",
   "metadata": {},
   "outputs": [
    {
     "name": "stdout",
     "output_type": "stream",
     "text": [
      "List of given capitals:\n",
      "\n",
      "Gandhinagar\n",
      "Mumbai\n",
      "Jaipur\n",
      "patna\n"
     ]
    }
   ],
   "source": [
    "# Iterate through all values using .values()\n",
    "statesAndCapitals = {'Gujarat':'Gandhinagar','Maharashtra':'Mumbai','Rajasthan':'Jaipur','Bihar':'patna'}\n",
    "print('List of given capitals:\\n')\n",
    "for capital in statesAndCapitals.values():\n",
    "    print(capital)"
   ]
  },
  {
   "cell_type": "code",
   "execution_count": 7,
   "id": "f62e1226",
   "metadata": {},
   "outputs": [
    {
     "name": "stdout",
     "output_type": "stream",
     "text": [
      "List of given states and capitals:\n",
      "\n",
      "Gujarat : Gandhinagar\n",
      "Maharashtra : Mumbai\n",
      "Rajasthan : Jaipur\n",
      "Bihar : patna\n"
     ]
    }
   ],
   "source": [
    "# Iterate through all key and value pairs using iteam()\n",
    "statesAndCapitals = {'Gujarat':'Gandhinagar','Maharashtra':'Mumbai','Rajasthan':'Jaipur','Bihar':'patna'}\n",
    "print('List of given states and capitals:\\n')\n",
    "for state,capital in statesAndCapitals.items():\n",
    "    print(state,\":\",capital)"
   ]
  },
  {
   "cell_type": "code",
   "execution_count": 9,
   "id": "6fd2e7d7",
   "metadata": {},
   "outputs": [
    {
     "name": "stdout",
     "output_type": "stream",
     "text": [
      "Gujarat -> Gandhinagar\n",
      "Maharashtra -> Mumbai\n",
      "Rajasthan -> Jaipur\n",
      "Bihar -> patna\n"
     ]
    }
   ],
   "source": [
    "# Access both key and value without using iteams()\n",
    "statesAndCapitals = {'Gujarat':'Gandhinagar','Maharashtra':'Mumbai','Rajasthan':'Jaipur','Bihar':'patna'}\n",
    "for i in statesAndCapitals:\n",
    "     print(i,'->',statesAndCapitals[i])"
   ]
  },
  {
   "cell_type": "code",
   "execution_count": 10,
   "id": "eb7651c7",
   "metadata": {},
   "outputs": [
    {
     "name": "stdout",
     "output_type": "stream",
     "text": [
      "dict_items([('Gujarat', 'Gandhinagar'), ('Maharashtra', 'Mumbai'), ('Rajasthan', 'Jaipur'), ('Bihar', 'patna')])\n"
     ]
    }
   ],
   "source": [
    "# Access iteams in key-Value in pair\n",
    "statesAndCapitals = {'Gujarat':'Gandhinagar','Maharashtra':'Mumbai','Rajasthan':'Jaipur','Bihar':'patna'}\n",
    "keys = statesAndCapitals.items()\n",
    "print(keys)"
   ]
  }
 ],
 "metadata": {
  "kernelspec": {
   "display_name": "Python 3 (ipykernel)",
   "language": "python",
   "name": "python3"
  },
  "language_info": {
   "codemirror_mode": {
    "name": "ipython",
    "version": 3
   },
   "file_extension": ".py",
   "mimetype": "text/x-python",
   "name": "python",
   "nbconvert_exporter": "python",
   "pygments_lexer": "ipython3",
   "version": "3.9.12"
  }
 },
 "nbformat": 4,
 "nbformat_minor": 5
}
